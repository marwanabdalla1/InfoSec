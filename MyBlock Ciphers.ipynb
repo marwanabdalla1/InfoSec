{
  "cells": [
    {
      "cell_type": "markdown",
      "id": "strategic-sponsorship",
      "metadata": {
        "id": "strategic-sponsorship"
      },
      "source": [
        "# Table of contents:\n",
        "\n",
        "* [Introduction to block ciphers](#intro-block)\n",
        "* [Padding a message](#message-padding)\n",
        "* [The Advanced Encryption Standard (AES)](#AES)\n",
        "* [Modes of operation of block ciphers](#modes)\n",
        "* [Size of the output ciphertex on AES](#size)\n",
        "* [Bonus: Fernet cipher](#fernet)\n",
        "    \n",
        "Author: [Sebastià Agramunt Puig](https://github.com/sebastiaagramunt) for [OpenMined](https://www.openmined.org/) Privacy ML Series course.\n",
        "\n"
      ]
    },
    {
      "cell_type": "markdown",
      "id": "informal-yesterday",
      "metadata": {
        "id": "informal-yesterday"
      },
      "source": [
        "## Block Ciphers <a class=\"anchor\" id=\"intro-block\"></a>\n",
        "\n",
        "Block ciphers as opposed to stream ciphers take a block of the plaintext (a specific amount of bytes) and encrypts it into a block with the same size. In this section we will use the Advanced Encryption Standard (AES) to understand block ciphers. In the next schema it is shown how an original message of arbitrary $N$ bytes is converted into a ciphertext having blocks of $K$ bytes. The ciphertext size is always a multiple of $K$ bytes."
      ]
    },
    {
      "cell_type": "code",
      "execution_count": 14,
      "id": "d33YDGgyEyZz",
      "metadata": {
        "id": "d33YDGgyEyZz",
        "outputId": "56f63f7f-7a3a-4905-ec36-99ff2b0a92db",
        "colab": {
          "base_uri": "https://localhost:8080/"
        }
      },
      "outputs": [
        {
          "output_type": "stream",
          "name": "stdout",
          "text": [
            "Looking in indexes: https://pypi.org/simple, https://us-python.pkg.dev/colab-wheels/public/simple/\n",
            "Requirement already satisfied: pyaes in /usr/local/lib/python3.7/dist-packages (1.6.1)\n"
          ]
        }
      ],
      "source": [
        "!pip install pyaes"
      ]
    },
    {
      "cell_type": "code",
      "execution_count": 15,
      "id": "KPS-Zs7DE-dJ",
      "metadata": {
        "id": "KPS-Zs7DE-dJ",
        "outputId": "f9eabfc7-235d-46ae-fab8-21d6552ffdc4",
        "colab": {
          "base_uri": "https://localhost:8080/"
        }
      },
      "outputs": [
        {
          "output_type": "stream",
          "name": "stdout",
          "text": [
            "Looking in indexes: https://pypi.org/simple, https://us-python.pkg.dev/colab-wheels/public/simple/\n",
            "Requirement already satisfied: pbkdf2 in /usr/local/lib/python3.7/dist-packages (1.3)\n"
          ]
        }
      ],
      "source": [
        "!pip install pbkdf2"
      ]
    },
    {
      "cell_type": "code",
      "source": [
        "!pip install pycryptodome\n",
        "\n"
      ],
      "metadata": {
        "id": "A1IBxkrlXeCn",
        "outputId": "f486d13e-2ed1-40ff-df5b-1b25904e21ec",
        "colab": {
          "base_uri": "https://localhost:8080/"
        }
      },
      "id": "A1IBxkrlXeCn",
      "execution_count": 16,
      "outputs": [
        {
          "output_type": "stream",
          "name": "stdout",
          "text": [
            "Looking in indexes: https://pypi.org/simple, https://us-python.pkg.dev/colab-wheels/public/simple/\n",
            "Requirement already satisfied: pycryptodome in /usr/local/lib/python3.7/dist-packages (3.15.0)\n"
          ]
        }
      ]
    },
    {
      "cell_type": "code",
      "source": [
        "!pip install crypto"
      ],
      "metadata": {
        "id": "oDzwJBPs4e2z",
        "outputId": "7c6e95dc-b997-4b5a-f406-16b7c6c8a535",
        "colab": {
          "base_uri": "https://localhost:8080/"
        }
      },
      "id": "oDzwJBPs4e2z",
      "execution_count": 17,
      "outputs": [
        {
          "output_type": "stream",
          "name": "stdout",
          "text": [
            "Looking in indexes: https://pypi.org/simple, https://us-python.pkg.dev/colab-wheels/public/simple/\n",
            "Requirement already satisfied: crypto in /usr/local/lib/python3.7/dist-packages (1.4.1)\n",
            "Requirement already satisfied: shellescape in /usr/local/lib/python3.7/dist-packages (from crypto) (3.8.1)\n",
            "Requirement already satisfied: Naked in /usr/local/lib/python3.7/dist-packages (from crypto) (0.1.32)\n",
            "Requirement already satisfied: requests in /usr/local/lib/python3.7/dist-packages (from Naked->crypto) (2.23.0)\n",
            "Requirement already satisfied: pyyaml in /usr/local/lib/python3.7/dist-packages (from Naked->crypto) (6.0)\n",
            "Requirement already satisfied: certifi>=2017.4.17 in /usr/local/lib/python3.7/dist-packages (from requests->Naked->crypto) (2022.9.24)\n",
            "Requirement already satisfied: idna<3,>=2.5 in /usr/local/lib/python3.7/dist-packages (from requests->Naked->crypto) (2.10)\n",
            "Requirement already satisfied: chardet<4,>=3.0.2 in /usr/local/lib/python3.7/dist-packages (from requests->Naked->crypto) (3.0.4)\n",
            "Requirement already satisfied: urllib3!=1.25.0,!=1.25.1,<1.26,>=1.21.1 in /usr/local/lib/python3.7/dist-packages (from requests->Naked->crypto) (1.24.3)\n"
          ]
        }
      ]
    },
    {
      "cell_type": "code",
      "source": [
        "dir(AES) "
      ],
      "metadata": {
        "id": "ZxlhzHCC48-e",
        "outputId": "e67a4cea-f1ac-40e1-9a8b-f696d67325ef",
        "colab": {
          "base_uri": "https://localhost:8080/"
        }
      },
      "id": "ZxlhzHCC48-e",
      "execution_count": 18,
      "outputs": [
        {
          "output_type": "execute_result",
          "data": {
            "text/plain": [
              "['AESCipher',\n",
              " 'MODE_CBC',\n",
              " 'MODE_CFB',\n",
              " 'MODE_CTR',\n",
              " 'MODE_ECB',\n",
              " 'MODE_OFB',\n",
              " 'MODE_OPENPGP',\n",
              " 'MODE_PGP',\n",
              " '_AES',\n",
              " '__builtins__',\n",
              " '__cached__',\n",
              " '__doc__',\n",
              " '__file__',\n",
              " '__loader__',\n",
              " '__name__',\n",
              " '__package__',\n",
              " '__revision__',\n",
              " '__spec__',\n",
              " 'block_size',\n",
              " 'blockalgo',\n",
              " 'key_size',\n",
              " 'new']"
            ]
          },
          "metadata": {},
          "execution_count": 18
        }
      ]
    },
    {
      "cell_type": "code",
      "execution_count": 25,
      "id": "5ib0QZbSFEa5",
      "metadata": {
        "colab": {
          "base_uri": "https://localhost:8080/",
          "height": 240
        },
        "id": "5ib0QZbSFEa5",
        "outputId": "ccf798f5-15d0-4f8d-aa6c-252bfaf06e58"
      },
      "outputs": [
        {
          "output_type": "error",
          "ename": "AttributeError",
          "evalue": "ignored",
          "traceback": [
            "\u001b[0;31m---------------------------------------------------------------------------\u001b[0m",
            "\u001b[0;31mAttributeError\u001b[0m                            Traceback (most recent call last)",
            "\u001b[0;32m<ipython-input-25-6501e54f0eae>\u001b[0m in \u001b[0;36m<module>\u001b[0;34m\u001b[0m\n\u001b[1;32m      5\u001b[0m \u001b[0;31m# eax\u001b[0m\u001b[0;34m\u001b[0m\u001b[0;34m\u001b[0m\u001b[0;34m\u001b[0m\u001b[0m\n\u001b[1;32m      6\u001b[0m \u001b[0mkey\u001b[0m \u001b[0;34m=\u001b[0m \u001b[0mget_random_bytes\u001b[0m\u001b[0;34m(\u001b[0m\u001b[0;36m16\u001b[0m\u001b[0;34m)\u001b[0m\u001b[0;34m\u001b[0m\u001b[0;34m\u001b[0m\u001b[0m\n\u001b[0;32m----> 7\u001b[0;31m \u001b[0mcipher\u001b[0m \u001b[0;34m=\u001b[0m \u001b[0mAES\u001b[0m\u001b[0;34m.\u001b[0m\u001b[0mnew\u001b[0m\u001b[0;34m(\u001b[0m\u001b[0mkey\u001b[0m\u001b[0;34m,\u001b[0m \u001b[0mAES\u001b[0m\u001b[0;34m.\u001b[0m\u001b[0mMODE_EAX\u001b[0m\u001b[0;34m)\u001b[0m\u001b[0;34m\u001b[0m\u001b[0;34m\u001b[0m\u001b[0m\n\u001b[0m\u001b[1;32m      8\u001b[0m \u001b[0mciphertext\u001b[0m\u001b[0;34m,\u001b[0m \u001b[0mtag\u001b[0m \u001b[0;34m=\u001b[0m \u001b[0mcipher\u001b[0m\u001b[0;34m.\u001b[0m\u001b[0mencrypt_and_digest\u001b[0m\u001b[0;34m(\u001b[0m\u001b[0mdata\u001b[0m\u001b[0;34m)\u001b[0m\u001b[0;34m\u001b[0m\u001b[0;34m\u001b[0m\u001b[0m\n\u001b[1;32m      9\u001b[0m \u001b[0mnonce\u001b[0m \u001b[0;34m=\u001b[0m \u001b[0mcipher\u001b[0m\u001b[0;34m.\u001b[0m\u001b[0mnonce\u001b[0m\u001b[0;34m\u001b[0m\u001b[0;34m\u001b[0m\u001b[0m\n",
            "\u001b[0;31mAttributeError\u001b[0m: module 'Crypto.Cipher.AES' has no attribute 'MODE_EAX'"
          ]
        }
      ],
      "source": [
        "from Crypto.Cipher import AES\n",
        "from Crypto.Random import get_random_bytes\n",
        "\n",
        "data = b'secret data'\n",
        "# eax\n",
        "key = get_random_bytes(16)\n",
        "cipher = AES.new(key, AES.MODE_EAX)\n",
        "ciphertext, tag = cipher.encrypt_and_digest(data)\n",
        "nonce = cipher.nonce\n",
        "\n",
        "print(data)"
      ]
    },
    {
      "cell_type": "markdown",
      "id": "destroyed-croatia",
      "metadata": {
        "id": "destroyed-croatia"
      },
      "source": [
        "<img src=\"https://github.com/marwanabdalla1/InfoSec/blob/main/img/block_cipher.png?raw=1\" style=\"width:1100px\"/>"
      ]
    },
    {
      "cell_type": "markdown",
      "id": "constant-bulletin",
      "metadata": {
        "id": "constant-bulletin"
      },
      "source": [
        "## Padding a message <a class=\"anchor\" id=\"message-padding\"></a>\n",
        "\n",
        "Most of the times the lenght of the message is not a multiple of the block size so we need to \"pad\" the message to have the required length. A common padding function is [PKCS7](https://en.wikipedia.org/wiki/Padding_(cryptography)). Basically what PKCS7 does is appendinng a list of bytes with the same value corresponding to the number of bytes needed to complete the block.\n",
        "\n",
        "\n"
      ]
    },
    {
      "cell_type": "markdown",
      "id": "organized-moment",
      "metadata": {
        "id": "organized-moment"
      },
      "source": [
        "## Encrypting using AES (Advanced Encryption Standard) <a class=\"anchor\" id=\"AES\"></a>\n",
        "\n",
        "AES is a block cipher that was established as a standard by NIST in 2001 (after a public call to improve/substitute DES encryption algorithm in 1997). AES is a subset of the Rijndael block cipher developed by Vincent Rijmen and Joan Daemen submitted to NIST during the [AES selection process](https://en.wikipedia.org/wiki/Advanced_Encryption_Standard_process).\n",
        "\n",
        "\n",
        "We are not going to go into the details of te exact implementation but the readers are referred to the book of [Katz and Lindell](http://www.cs.umd.edu/~jkatz/imc.html) Chapter 6 section 2. Also Mike Pound explains AES in this [video](https://www.youtube.com/watch?v=O4xNJsjtN6E&t=524s&ab_channel=Computerphile), check it out!"
      ]
    },
    {
      "cell_type": "code",
      "execution_count": null,
      "id": "IPuC2Ar9_xW3",
      "metadata": {
        "id": "IPuC2Ar9_xW3"
      },
      "outputs": [],
      "source": [
        "!pip install matplotlib-venn"
      ]
    },
    {
      "cell_type": "code",
      "execution_count": null,
      "id": "V4sAOj5r_0RU",
      "metadata": {
        "id": "V4sAOj5r_0RU"
      },
      "outputs": [],
      "source": [
        "!apt-get -qq install -y libfluidsynth1"
      ]
    },
    {
      "cell_type": "code",
      "execution_count": null,
      "id": "oq2NBp2CAyHH",
      "metadata": {
        "id": "oq2NBp2CAyHH"
      },
      "outputs": [],
      "source": [
        "%pip install tfp-nightly"
      ]
    },
    {
      "cell_type": "code",
      "execution_count": null,
      "id": "NG1XTWDvBGBv",
      "metadata": {
        "id": "NG1XTWDvBGBv"
      },
      "outputs": [],
      "source": [
        "!apt-get install libmagic-dev\n",
        "!pip install python-magic\n"
      ]
    },
    {
      "cell_type": "code",
      "execution_count": null,
      "id": "5cRleiTbBF8B",
      "metadata": {
        "id": "5cRleiTbBF8B"
      },
      "outputs": [],
      "source": [
        "import magic\n"
      ]
    },
    {
      "cell_type": "code",
      "execution_count": null,
      "id": "s2x2_-TrAgyn",
      "metadata": {
        "id": "s2x2_-TrAgyn"
      },
      "outputs": [],
      "source": [
        "from Crypto.Cipher import AES\n",
        "from Crypto import Random"
      ]
    },
    {
      "cell_type": "code",
      "execution_count": null,
      "id": "b9IqF2RZAcZV",
      "metadata": {
        "id": "b9IqF2RZAcZV"
      },
      "outputs": [],
      "source": [
        "from Crypto.Cipher import AES\n",
        "from Crypto import Random\n",
        "\n",
        "BLOCK_SIZE = 32\n",
        "INTERRUPT = u'\\u0001'\n",
        "\n",
        "PAD = u'\\u0000'\n",
        "\n",
        "def AddPadding(data, interrupt, pad, block_size):\n",
        "  new_data = ''.join([data, interrupt]) #joined data with the padding shaklaha la\n",
        "  new_data_len = len(new_data)\n",
        "  remaining_len = block_size - new_data_len #checking if the block size is larger than the new data length, which should be zero right?\n",
        "  to_pad_len = remaining_len % block_size #the data yet to be padded\n",
        "  pad_string = pad * to_pad_len\n",
        "  return ''.join([new_data, pad_string])  #i think this is what binds it\n",
        "\n",
        "def StripPadding(data, interrupt, pad):\n",
        "  return data.rstrip(pad).rstrip(interrupt)\n",
        "\n",
        "SECRET_KEY = Random.new().read(32)\n",
        "\n",
        "IV = Random.new().read(16)\n"
      ]
    },
    {
      "cell_type": "code",
      "source": [
        "dir(utils)"
      ],
      "metadata": {
        "id": "w7Lklxx356bV"
      },
      "id": "w7Lklxx356bV",
      "execution_count": null,
      "outputs": []
    },
    {
      "cell_type": "code",
      "execution_count": null,
      "id": "2VHcD0S2Bbts",
      "metadata": {
        "id": "2VHcD0S2Bbts"
      },
      "outputs": [],
      "source": [
        "# !install pip\n",
        "!pip install utils\n",
        "import utils \n"
      ]
    },
    {
      "cell_type": "markdown",
      "source": [
        "Why is padding not available?"
      ],
      "metadata": {
        "id": "ykMtKCIC1jnA"
      },
      "id": "ykMtKCIC1jnA"
    },
    {
      "cell_type": "code",
      "source": [
        "!pip uninstall utils"
      ],
      "metadata": {
        "id": "U8w4692I6jTA"
      },
      "id": "U8w4692I6jTA",
      "execution_count": null,
      "outputs": []
    },
    {
      "cell_type": "code",
      "execution_count": null,
      "id": "nC36JgYn-_Kx",
      "metadata": {
        "id": "nC36JgYn-_Kx"
      },
      "outputs": [],
      "source": [
        "#  import utils.padding\n",
        "import Crypto.Util "
      ]
    },
    {
      "cell_type": "code",
      "execution_count": null,
      "id": "b0mBdA0lDKnv",
      "metadata": {
        "id": "b0mBdA0lDKnv"
      },
      "outputs": [],
      "source": [
        "# !pip uninstall pycrypto\n",
        "# easy_install pycrypto\n",
        "!pip install pycrypto"
      ]
    },
    {
      "cell_type": "code",
      "execution_count": null,
      "id": "jlezzmM5CANR",
      "metadata": {
        "id": "jlezzmM5CANR"
      },
      "outputs": [],
      "source": [
        "import Crypto.Util "
      ]
    },
    {
      "cell_type": "code",
      "execution_count": null,
      "id": "5dmd3lapB5uH",
      "metadata": {
        "id": "5dmd3lapB5uH"
      },
      "outputs": [],
      "source": [
        "from Crypto.Util.Padding import pad, unpad\n",
        "from Crypto.Cipher import AES\n",
        "from Crypto.Random import get_random_bytes"
      ]
    },
    {
      "cell_type": "code",
      "execution_count": null,
      "id": "IJQiF5Ki-Fxs",
      "metadata": {
        "id": "IJQiF5Ki-Fxs"
      },
      "outputs": [],
      "source": [
        "!apt-get -qq install -y libarchive-dev && pip install -U libarchive\n",
        "import libarchive\n",
        "#from ..Util import util\n",
        "from ..Util import padding \n",
        "MODE_ECB = 1\n",
        "MODE_CBC = 2\n",
        "\n",
        "\n",
        "class BlockCipher():\n",
        "    \"\"\" Base class for all blockciphers\n",
        "    \"\"\"\n",
        "\n",
        "    key_error_message = \"Wrong key size\" #should be overwritten in child classes\n",
        "\n",
        "    def __init__(self,key,mode,IV,counter,cipher_module,segment_size,args={}):\n",
        "        # Cipher classes inheriting from this one take care of:\n",
        "        #   self.blocksize\n",
        "        #   self.cipher\n",
        "        self.key = key\n",
        "        self.mode = mode\n",
        "        self.cache = ''\n",
        "        self.ed = None\n",
        "\n",
        "        if 'keylen_valid' in dir(self): #wrappers for pycrypto functions don't have this function\n",
        "         if not self.keylen_valid(key) and type(key) is not tuple:\n",
        "                raise ValueError(self.key_error_message)\n",
        "\n",
        "        if IV == None:\n",
        "            self.IV = '\\x00'*self.blocksize\n",
        "        else:\n",
        "            self.IV = IV\n",
        "\n"
      ]
    },
    {
      "cell_type": "code",
      "source": [
        "print(data)"
      ],
      "metadata": {
        "id": "X5WTHO1p3lLN"
      },
      "id": "X5WTHO1p3lLN",
      "execution_count": null,
      "outputs": []
    },
    {
      "cell_type": "markdown",
      "id": "weird-filename",
      "metadata": {
        "id": "weird-filename"
      },
      "source": [
        "## Modes of operation of block ciphers <a class=\"anchor\" id=\"mode\"></a>\n",
        "\n",
        "A block cipher by itself is only suitable for the secure cryptographic transformation (encryption or decryption) of one fixed-length group of bits called a block. A mode of operation describes how to repeatedly apply a cipher's single-block operation to securely transform amounts of data larger than a block ([Wikipedia](https://en.wikipedia.org/wiki/Block_cipher_mode_of_operation)).\n",
        "\n",
        "The first mode is \"not doing anything\", this is the Electronic Codebook mode. See the figure below (from Wikipedia)."
      ]
    },
    {
      "cell_type": "markdown",
      "id": "capable-command",
      "metadata": {
        "id": "capable-command"
      },
      "source": [
        "<img src=\"https://github.com/marwanabdalla1/InfoSec/blob/main/img/ECB_mode.png?raw=1\" style=\"width:1100px\"/>"
      ]
    },
    {
      "cell_type": "markdown",
      "id": "critical-cinema",
      "metadata": {
        "id": "critical-cinema"
      },
      "source": [
        "\\We are lucky and in ```cryptography``` package ECB implemented in ```cryptography.hazmat.primitives.ciphers.ECB``` function (we've seen in the previous example!)."
      ]
    },
    {
      "cell_type": "markdown",
      "id": "surprised-aspect",
      "metadata": {
        "id": "surprised-aspect"
      },
      "source": [
        ":Now we can encrypt the same message twice and see what we get in the ciphertext:"
      ]
    },
    {
      "cell_type": "markdown",
      "id": "bronze-column",
      "metadata": {
        "id": "bronze-column"
      },
      "source": [
        "This is not a desirable outcome. If I want to send the same message twice, I \n",
        "\n",
        "---\n",
        "\n",
        "really don't want to send the same ciphertext. What if in all comunications I start by \"Dear...\" and the attacker knows it?. A better mode is the Cipher block chaining (CBC):"
      ]
    },
    {
      "cell_type": "markdown",
      "id": "sonic-ranking",
      "metadata": {
        "id": "sonic-ranking"
      },
      "source": [
        "### <img src=\"https://github.com/marwanabdalla1/InfoSec/blob/main/img/CBC_mode.png?raw=1\" style=\"width:1100px\"/>"
      ]
    },
    {
      "cell_type": "markdown",
      "id": "meaningful-preview",
      "metadata": {
        "id": "meaningful-preview"
      },
      "source": [
        "In this case we take a random initialization vector and perform XOR operation with the block of plaintext, then we feed this into the encryptor, after that we obtain the ciphertext. This ciphertext is used as the initialization vector to encrypt the next block."
      ]
    },
    {
      "cell_type": "markdown",
      "id": "cutting-demographic",
      "metadata": {
        "id": "cutting-demographic"
      },
      "source": [
        "## Size of ciphertext <a class=\"anchor\" id=\"size\"></a>"
      ]
    },
    {
      "cell_type": "markdown",
      "id": "polish-parts",
      "metadata": {
        "id": "polish-parts"
      },
      "source": [
        "## Bonus: Fernet <a class=\"anchor\" id=\"fernet\"></a>\n",
        "\n",
        "Another block cipher implemented in cryptography package is [Fernet](https://asecuritysite.com/encryption/fernet). "
      ]
    },
    {
      "cell_type": "code",
      "execution_count": null,
      "id": "raised-steps",
      "metadata": {
        "id": "raised-steps"
      },
      "outputs": [],
      "source": []
    }
  ],
  "metadata": {
    "colab": {
      "provenance": []
    },
    "kernelspec": {
      "display_name": "Python 3.10.7 64-bit",
      "language": "python",
      "name": "python3"
    },
    "language_info": {
      "codemirror_mode": {
        "name": "ipython",
        "version": 3
      },
      "file_extension": ".py",
      "mimetype": "text/x-python",
      "name": "python",
      "nbconvert_exporter": "python",
      "pygments_lexer": "ipython3",
      "version": "3.10.7"
    },
    "vscode": {
      "interpreter": {
        "hash": "369f2c481f4da34e4445cda3fffd2e751bd1c4d706f27375911949ba6bb62e1c"
      }
    }
  },
  "nbformat": 4,
  "nbformat_minor": 5
}