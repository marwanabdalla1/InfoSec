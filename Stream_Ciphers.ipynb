{
  "cells": [
    {
      "cell_type": "markdown",
      "metadata": {
        "id": "view-in-github",
        "colab_type": "text"
      },
      "source": [
        "<a href=\"https://colab.research.google.com/github/marwanabdalla1/InfoSec/blob/main/Stream_Ciphers.ipynb\" target=\"_parent\"><img src=\"https://colab.research.google.com/assets/colab-badge.svg\" alt=\"Open In Colab\"/></a>"
      ]
    },
    {
      "cell_type": "markdown",
      "metadata": {
        "id": "hDsfGBechciK"
      },
      "source": [
        "# Table of contents:\n",
        "\n",
        "* [Stream Ciphers](#streamciphers)\n",
        "* [ChaCha20 Stream Cipher](#chacha20)\n",
        "* [Length of ciphertext in stream cipher](#len)\n",
        "\n",
        "\n",
        "Author: [Sebastià Agramunt Puig](https://github.com/sebastiaagramunt) for [OpenMined](https://www.openmined.org/) Privacy ML Series course."
      ]
    },
    {
      "cell_type": "markdown",
      "metadata": {
        "id": "Cj5eMDb1hciP"
      },
      "source": [
        "# Stream ciphers <a class=\"anchor\" id=\"streamciphers\"></a>\n",
        "\n",
        "So far, the cipher we coded pads bit by bit or, equivalently byte by byte, this is what we know as **stream cipher** because we generate a stream of bytes to pad the message. Of course our homemade implementation is not the perfect one. Hopefully we have the ```cryptography``` package!.\n"
      ]
    },
    {
      "cell_type": "markdown",
      "metadata": {
        "id": "cNWtksYlhciQ"
      },
      "source": [
        "<img src=\"img/stream_cipher.png\" style=\"width:900px\"/>"
      ]
    },
    {
      "cell_type": "markdown",
      "metadata": {
        "id": "ChLHSb3VhciQ"
      },
      "source": [
        "# The ChaCha20 Stream Cipher <a class=\"anchor\" id=\"chacha20\"></a>\n",
        "\n",
        "The ciphertext has the same length as the plaintext, if we add one more bit to the plaintext that would result in one more bit in the plaintext. Let's use a stream cipher called [ChaCha20](https://tools.ietf.org/html/draft-strombergson-chacha-test-vectors-00), you can find a python [implementation](https://asecuritysite.com/encryption/chacha) and the original [paper](https://cr.yp.to/chacha/chacha-20080120.pdf)."
      ]
    },
    {
      "cell_type": "code",
      "execution_count": null,
      "metadata": {
        "colab": {
          "base_uri": "https://localhost:8080/",
          "height": 374
        },
        "id": "5dbyu0HWhciR",
        "outputId": "56a3524c-0f76-479e-d0e0-758b7272b28a"
      },
      "outputs": [
        {
          "output_type": "error",
          "ename": "ModuleNotFoundError",
          "evalue": "ignored",
          "traceback": [
            "\u001b[0;31m---------------------------------------------------------------------------\u001b[0m",
            "\u001b[0;31mModuleNotFoundError\u001b[0m                       Traceback (most recent call last)",
            "\u001b[0;32m<ipython-input-1-09b0884dbcf8>\u001b[0m in \u001b[0;36m<module>\u001b[0;34m\u001b[0m\n\u001b[1;32m      1\u001b[0m \u001b[0;32mimport\u001b[0m \u001b[0mjson\u001b[0m\u001b[0;34m\u001b[0m\u001b[0;34m\u001b[0m\u001b[0m\n\u001b[1;32m      2\u001b[0m \u001b[0;32mfrom\u001b[0m \u001b[0mbase64\u001b[0m \u001b[0;32mimport\u001b[0m \u001b[0mb64encode\u001b[0m\u001b[0;34m\u001b[0m\u001b[0;34m\u001b[0m\u001b[0m\n\u001b[0;32m----> 3\u001b[0;31m \u001b[0;32mfrom\u001b[0m \u001b[0mCrypto\u001b[0m\u001b[0;34m.\u001b[0m\u001b[0mCipher\u001b[0m \u001b[0;32mimport\u001b[0m \u001b[0mChaCha20\u001b[0m\u001b[0;34m\u001b[0m\u001b[0;34m\u001b[0m\u001b[0m\n\u001b[0m\u001b[1;32m      4\u001b[0m \u001b[0;32mfrom\u001b[0m \u001b[0mCrypto\u001b[0m\u001b[0;34m.\u001b[0m\u001b[0mRandom\u001b[0m \u001b[0;32mimport\u001b[0m \u001b[0mget_random_bytes\u001b[0m\u001b[0;34m\u001b[0m\u001b[0;34m\u001b[0m\u001b[0m\n\u001b[1;32m      5\u001b[0m \u001b[0;34m\u001b[0m\u001b[0m\n",
            "\u001b[0;31mModuleNotFoundError\u001b[0m: No module named 'Crypto'",
            "",
            "\u001b[0;31m---------------------------------------------------------------------------\u001b[0;32m\nNOTE: If your import is failing due to a missing package, you can\nmanually install dependencies using either !pip or !apt.\n\nTo view examples of installing some common dependencies, click the\n\"Open Examples\" button below.\n\u001b[0;31m---------------------------------------------------------------------------\u001b[0m\n"
          ],
          "errorDetails": {
            "actions": [
              {
                "action": "open_url",
                "actionText": "Open Examples",
                "url": "/notebooks/snippets/importing_libraries.ipynb"
              }
            ]
          }
        }
      ],
      "source": [
        "import json\n",
        "from base64 import b64encode\n",
        "from Crypto.Cipher import ChaCha20\n",
        "from Crypto.Random import get_random_bytes\n",
        "\n",
        "plaintext = b'Attack at dawn'\n",
        "key = get_random_bytes(32)\n",
        "cipher = ChaCha20.new(key=key)\n",
        "ciphertext = cipher.encrypt(plaintext)\n",
        "\n",
        "nonce = b64encode(cipher.nonce).decode('utf-8')\n",
        "ct = b64encode(ciphertext).decode('utf-8')\n",
        "result = json.dumps({'nonce':nonce, 'ciphertext':ct})\n",
        "print(result)\n",
        "{\"nonce\": \"IZScZh28fDo=\", \"ciphertext\": \"ZatgU1f30WDHriaN8ts=\"}\n"
      ]
    },
    {
      "cell_type": "markdown",
      "metadata": {
        "id": "14GbqOhYhciT"
      },
      "source": [
        "# Length of the ciphertext in stream ciphers <a class=\"anchor\" id=\"len\"></a>\n",
        "\n",
        "The lenght of the ciphertext is the same as the lenght of the plaintext in stream ciphers. In the next example we create a message of all characters \"a\" and encrypt with ChaCha20 cipher:"
      ]
    },
    {
      "cell_type": "code",
      "execution_count": null,
      "metadata": {
        "id": "e2SzVIyyhciT"
      },
      "outputs": [],
      "source": [
        "message = \"aaaaa\"\n"
      ]
    },
    {
      "cell_type": "markdown",
      "metadata": {
        "id": "95f3eAcLhciU"
      },
      "source": [
        "Since in stream ciphers (in general) we are XORing byte by byte using the original message and a pseudorandomly generated stream of bytes, the length of the message is the same as the length of the ciphertext."
      ]
    },
    {
      "cell_type": "code",
      "execution_count": null,
      "metadata": {
        "id": "U2RlmaERhciU"
      },
      "outputs": [],
      "source": []
    },
    {
      "cell_type": "code",
      "execution_count": null,
      "metadata": {
        "id": "ZyZl8arxhciY"
      },
      "outputs": [],
      "source": []
    },
    {
      "cell_type": "code",
      "execution_count": null,
      "metadata": {
        "id": "GDO18fi4hciY"
      },
      "outputs": [],
      "source": []
    },
    {
      "cell_type": "code",
      "execution_count": null,
      "metadata": {
        "id": "Qc5BSR63hciZ"
      },
      "outputs": [],
      "source": []
    }
  ],
  "metadata": {
    "kernelspec": {
      "display_name": "Python 3 (ipykernel)",
      "language": "python",
      "name": "python3"
    },
    "language_info": {
      "codemirror_mode": {
        "name": "ipython",
        "version": 3
      },
      "file_extension": ".py",
      "mimetype": "text/x-python",
      "name": "python",
      "nbconvert_exporter": "python",
      "pygments_lexer": "ipython3",
      "version": "3.9.13"
    },
    "colab": {
      "provenance": [],
      "include_colab_link": true
    }
  },
  "nbformat": 4,
  "nbformat_minor": 0
}